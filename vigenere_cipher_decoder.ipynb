{
 "cells": [
  {
   "cell_type": "code",
   "execution_count": 1,
   "metadata": {},
   "outputs": [],
   "source": [
    "from itertools import product\n",
    "ALPHABET = 'ABCDEFGHIJKLMNOPQRSTUVWXYZ'"
   ]
  },
  {
   "cell_type": "code",
   "execution_count": 2,
   "metadata": {},
   "outputs": [],
   "source": [
    "def decode_vigenere(ciphered_msg: str, key: str, alphabet=ALPHABET):\n",
    "    ciphered_msg = ciphered_msg.upper()\n",
    "    key = key.upper()\n",
    "    alphabet = alphabet.upper()\n",
    "    decoded_msg = ''\n",
    "    index_key_ctrl = 0\n",
    "    \n",
    "    for letter in ciphered_msg:\n",
    "        \n",
    "        if letter in [':','/','.', ' ']:\n",
    "            decoded_msg += letter\n",
    "        else:\n",
    "            letter_index = alphabet.index(letter)\n",
    "            key_index = alphabet.index(key[index_key_ctrl])\n",
    "            letter_dec_index = letter_index - key_index\n",
    "            \n",
    "            if letter_dec_index < 0:\n",
    "                letter_dec_index = letter_dec_index + len(alphabet)\n",
    "            \n",
    "            decoded_msg += alphabet[letter_dec_index]\n",
    "            \n",
    "            if index_key_ctrl < len(key) - 1:\n",
    "                index_key_ctrl += 1\n",
    "            else:  \n",
    "                index_key_ctrl = 0\n",
    "   \n",
    "           \n",
    "    return decoded_msg.lower()"
   ]
  },
  {
   "cell_type": "code",
   "execution_count": 3,
   "metadata": {},
   "outputs": [],
   "source": [
    "def found_key(length: int, alphabet=ALPHABET):\n",
    "    keys = product(ALPHABET, repeat=length)\n",
    "    \n",
    "    for key in keys:\n",
    "        real_message = decode_vigenere(ciphered_msg=ciphered_msg, key=''.join(key), alphabet=ALPHABET)\n",
    "        \n",
    "        if real_message == 'https':\n",
    "            return ''.join(key)\n",
    "\n"
   ]
  },
  {
   "cell_type": "code",
   "execution_count": 4,
   "metadata": {},
   "outputs": [
    {
     "data": {
      "text/plain": [
       "'FF'"
      ]
     },
     "execution_count": 4,
     "metadata": {},
     "output_type": "execute_result"
    }
   ],
   "source": [
    "ciphered_msg = 'myyux'\n",
    "key = found_key(length=2)\n",
    "key"
   ]
  },
  {
   "cell_type": "code",
   "execution_count": 5,
   "metadata": {},
   "outputs": [
    {
     "data": {
      "text/plain": [
       "'https://link.layers.education/deschcesar'"
      ]
     },
     "execution_count": 5,
     "metadata": {},
     "output_type": "execute_result"
    }
   ],
   "source": [
    "ciphered_msg = 'myyux://qnsp.qfdjwx.jizhfynts/ijxhmhjxfw'\n",
    "decode_vigenere(ciphered_msg=ciphered_msg, key=key)"
   ]
  }
 ],
 "metadata": {
  "interpreter": {
   "hash": "a6de5b68dfaa76be7ca4ae3820f2f3760d3b7cbb95311891be329a0ab281c2d5"
  },
  "kernelspec": {
   "display_name": "Python 3.9.7 ('ai')",
   "language": "python",
   "name": "python3"
  },
  "language_info": {
   "codemirror_mode": {
    "name": "ipython",
    "version": 3
   },
   "file_extension": ".py",
   "mimetype": "text/x-python",
   "name": "python",
   "nbconvert_exporter": "python",
   "pygments_lexer": "ipython3",
   "version": "3.9.7"
  },
  "orig_nbformat": 4
 },
 "nbformat": 4,
 "nbformat_minor": 2
}
